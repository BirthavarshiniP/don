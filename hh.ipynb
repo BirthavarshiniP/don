{
 "cells": [
  {
   "cell_type": "code",
   "execution_count": 6,
   "metadata": {},
   "outputs": [
    {
     "ename": "AttributeError",
     "evalue": "partially initialized module 'streamlit' has no attribute 'sidebar' (most likely due to a circular import)",
     "output_type": "error",
     "traceback": [
      "\u001b[1;31m---------------------------------------------------------------------------\u001b[0m",
      "\u001b[1;31mAttributeError\u001b[0m                            Traceback (most recent call last)",
      "Cell \u001b[1;32mIn[6], line 1\u001b[0m\n\u001b[1;32m----> 1\u001b[0m \u001b[39mimport\u001b[39;00m \u001b[39mstreamlit\u001b[39;00m \u001b[39mas\u001b[39;00m \u001b[39mst\u001b[39;00m\n\u001b[0;32m      3\u001b[0m choice \u001b[39m=\u001b[39m st\u001b[39m.\u001b[39msidebar\u001b[39m.\u001b[39mselectbox(\u001b[39m\"\u001b[39m\u001b[39mSelect your choice\u001b[39m\u001b[39m\"\u001b[39m, [\u001b[39m\"\u001b[39m\u001b[39mSummarize Text\u001b[39m\u001b[39m\"\u001b[39m, \u001b[39m\"\u001b[39m\u001b[39mSummarize Document\u001b[39m\u001b[39m\"\u001b[39m])\n",
      "File \u001b[1;32me:\\don\\streamlit.py:3\u001b[0m\n\u001b[0;32m      1\u001b[0m \u001b[39mimport\u001b[39;00m \u001b[39mstreamlit\u001b[39;00m \u001b[39mas\u001b[39;00m \u001b[39mst\u001b[39;00m\n\u001b[1;32m----> 3\u001b[0m choice \u001b[39m=\u001b[39m st\u001b[39m.\u001b[39;49msidebar\u001b[39m.\u001b[39mselectbox(\u001b[39m\"\u001b[39m\u001b[39mSelect your choice\u001b[39m\u001b[39m\"\u001b[39m, [\u001b[39m\"\u001b[39m\u001b[39mSummarize Text\u001b[39m\u001b[39m\"\u001b[39m, \u001b[39m\"\u001b[39m\u001b[39mSummarize Document\u001b[39m\u001b[39m\"\u001b[39m])\n",
      "\u001b[1;31mAttributeError\u001b[0m: partially initialized module 'streamlit' has no attribute 'sidebar' (most likely due to a circular import)"
     ]
    }
   ],
   "source": [
    "import streamlit as st\n",
    "\n",
    "choice = st.sidebar.selectbox(\"Select your choice\", [\"Summarize Text\", \"Summarize Document\"])\n",
    "\n"
   ]
  },
  {
   "cell_type": "code",
   "execution_count": 7,
   "metadata": {},
   "outputs": [
    {
     "name": "stdout",
     "output_type": "stream",
     "text": [
      "Collecting PyPDF2\n",
      "  Downloading pypdf2-3.0.1-py3-none-any.whl (232 kB)\n",
      "     ---------------------------------------- 0.0/232.6 kB ? eta -:--:--\n",
      "     ---------- ---------------------------- 61.4/232.6 kB 1.1 MB/s eta 0:00:01\n",
      "     ------------------------------------ - 225.3/232.6 kB 3.5 MB/s eta 0:00:01\n",
      "     -------------------------------------- 232.6/232.6 kB 1.6 MB/s eta 0:00:00\n",
      "Installing collected packages: PyPDF2\n",
      "Successfully installed PyPDF2-3.0.1\n",
      "Note: you may need to restart the kernel to use updated packages.\n"
     ]
    }
   ],
   "source": [
    "pip install PyPDF2\n"
   ]
  },
  {
   "cell_type": "code",
   "execution_count": 8,
   "metadata": {},
   "outputs": [
    {
     "name": "stdout",
     "output_type": "stream",
     "text": [
      "WARNING:tensorflow:From c:\\Users\\rajir\\AppData\\Local\\Programs\\Python\\Python311\\Lib\\site-packages\\keras\\src\\losses.py:2976: The name tf.losses.sparse_softmax_cross_entropy is deprecated. Please use tf.compat.v1.losses.sparse_softmax_cross_entropy instead.\n",
      "\n"
     ]
    },
    {
     "name": "stderr",
     "output_type": "stream",
     "text": [
      "2024-01-04 18:01:35.468 \n",
      "  \u001b[33m\u001b[1mWarning:\u001b[0m to view this Streamlit app on a browser, run it with the following\n",
      "  command:\n",
      "\n",
      "    streamlit run c:\\Users\\rajir\\AppData\\Local\\Programs\\Python\\Python311\\Lib\\site-packages\\ipykernel_launcher.py [ARGUMENTS]\n"
     ]
    }
   ],
   "source": [
    "import streamlit as st\n",
    "from txtai.pipeline import Summary\n",
    "from PyPDF2 import PdfReader\n",
    "\n",
    "st.set_page_config(layout=\"wide\")\n",
    "\n",
    "@st.cache_resource\n",
    "def summary_text(text):\n",
    "    summary = Summary()\n",
    "    text = (text)\n",
    "    result = summary(text)\n",
    "    return result\n",
    "\n",
    "def extract_text_from_pdf(file_path):\n",
    "   with open(file_path, 'rb') as f:\n",
    "      reader = PdfReader(f)\n",
    "      page = reader.pages[0]\n",
    "      text = page.extract_text()\n",
    "      return text \n",
    "    \n",
    "\n",
    "choice = st.sidebar.selectbox(\"Select your choice\", [\"Summarize Text\", \"Summarize Document\"])\n",
    "\n",
    "if choice == \"Summarize Text\":\n",
    "    st.subheader(\"Summarize Text using txtai\")\n",
    "    input_text = st.text_area(\"Enter your text here\")\n",
    "    if input_text is not None:\n",
    "     if st.button(\"Summarize Text\"):\n",
    "         col1, col2 = st.columns([1,1])\n",
    "         with col1:\n",
    "            st.markdown(\"**Your Input Text**\")\n",
    "            st.info(input_text)\n",
    "         with col2:\n",
    "            result = summary_text(input_text)\n",
    "            st.markdown(\"**Summarize Text**\")\n",
    "            st.success(result)\n",
    "\n",
    "\n",
    "elif choice == \"Summarize Document\":\n",
    "    st.subheader(\"Summarize Document using txtai\")\n",
    "    input_file = st.file_uploader(\"Upload uou doucment\", type = [\"pdf\"])\n",
    "    if input_file is not None:\n",
    "        if st.button(\"Summarize Document\"):  \n",
    "            with open(\"doc_file.pdf\", \"wb\") as f:\n",
    "              f.write(input_file.getbuffer())\n",
    "            col1, col2 = st.columns([1,1])\n",
    "            with col1:\n",
    "                 st.markdown(\"**Extracted Text from Document**\")\n",
    "                 extracted_text = extract_text_from_pdf(\"doc_file.pdf\")\n",
    "                 st.info(extracted_text)\n",
    "\n",
    "            with col2:\n",
    "                result = extract_text_from_pdf(\"doc_file.pdf\")\n",
    "                st.markdown(\"**Summarize Document**\")\n",
    "                summary_result = summary_text(result)\n",
    "                st.success(summary_result)"
   ]
  },
  {
   "cell_type": "code",
   "execution_count": 9,
   "metadata": {},
   "outputs": [
    {
     "name": "stdout",
     "output_type": "stream",
     "text": [
      " * Serving Flask app '__main__'\n",
      " * Debug mode: on\n"
     ]
    },
    {
     "name": "stderr",
     "output_type": "stream",
     "text": [
      "WARNING: This is a development server. Do not use it in a production deployment. Use a production WSGI server instead.\n",
      " * Running on http://127.0.0.1:5000\n",
      "Press CTRL+C to quit\n",
      " * Restarting with watchdog (windowsapi)\n"
     ]
    },
    {
     "ename": "SystemExit",
     "evalue": "1",
     "output_type": "error",
     "traceback": [
      "An exception has occurred, use %tb to see the full traceback.\n",
      "\u001b[1;31mSystemExit\u001b[0m\u001b[1;31m:\u001b[0m 1\n"
     ]
    },
    {
     "name": "stderr",
     "output_type": "stream",
     "text": [
      "c:\\Users\\rajir\\AppData\\Local\\Programs\\Python\\Python311\\Lib\\site-packages\\IPython\\core\\interactiveshell.py:3468: UserWarning: To exit: use 'exit', 'quit', or Ctrl-D.\n",
      "  warn(\"To exit: use 'exit', 'quit', or Ctrl-D.\", stacklevel=1)\n"
     ]
    }
   ],
   "source": [
    "from flask import Flask, request, jsonify\n",
    "import streamlit as st\n",
    "from txtai.pipeline import Summary\n",
    "from PyPDF2 import PdfReader\n",
    "\n",
    "app = Flask(__name__)\n",
    "\n",
    "@st.cache_resource\n",
    "def summary_text(text):\n",
    "    summary = Summary()\n",
    "    result = summary(text)\n",
    "    return result\n",
    "\n",
    "def extract_text_from_pdf(file_path):\n",
    "   with open(file_path, 'rb') as f:\n",
    "      reader = PdfReader(f)\n",
    "      page = reader.pages[0]\n",
    "      text = page.extract_text()\n",
    "      return text \n",
    "\n",
    "@app.route('/summarize', methods=['POST'])\n",
    "def summarize():\n",
    "    data = request.json\n",
    "    choice = data.get('choice')\n",
    "\n",
    "    if choice == \"Summarize Text\":\n",
    "        input_text = data.get('input_text')\n",
    "        result = summary_text(input_text)\n",
    "        return jsonify({\"result\": result})\n",
    "\n",
    "    elif choice == \"Summarize Document\":\n",
    "        input_file = data.get('input_file')\n",
    "        with open(\"doc_file.pdf\", \"wb\") as f:\n",
    "            f.write(input_file.encode('latin1'))\n",
    "        extracted_text = extract_text_from_pdf(\"doc_file.pdf\")\n",
    "        result = summary_text(extracted_text)\n",
    "        return jsonify({\"result\": result})\n",
    "\n",
    "if __name__ == '__main__':\n",
    "    app.run(debug=True)\n"
   ]
  },
  {
   "cell_type": "code",
   "execution_count": 10,
   "metadata": {},
   "outputs": [
    {
     "name": "stdout",
     "output_type": "stream",
     "text": [
      "Requirement already satisfied: Flask in c:\\users\\rajir\\appdata\\local\\programs\\python\\python311\\lib\\site-packages (3.0.0)Note: you may need to restart the kernel to use updated packages.\n",
      "\n",
      "Requirement already satisfied: Werkzeug>=3.0.0 in c:\\users\\rajir\\appdata\\local\\programs\\python\\python311\\lib\\site-packages (from Flask) (3.0.1)\n",
      "Requirement already satisfied: Jinja2>=3.1.2 in c:\\users\\rajir\\appdata\\local\\programs\\python\\python311\\lib\\site-packages (from Flask) (3.1.2)\n",
      "Requirement already satisfied: itsdangerous>=2.1.2 in c:\\users\\rajir\\appdata\\local\\programs\\python\\python311\\lib\\site-packages (from Flask) (2.1.2)\n",
      "Requirement already satisfied: click>=8.1.3 in c:\\users\\rajir\\appdata\\local\\programs\\python\\python311\\lib\\site-packages (from Flask) (8.1.7)\n",
      "Requirement already satisfied: blinker>=1.6.2 in c:\\users\\rajir\\appdata\\local\\programs\\python\\python311\\lib\\site-packages (from Flask) (1.7.0)\n",
      "Requirement already satisfied: colorama in c:\\users\\rajir\\appdata\\local\\programs\\python\\python311\\lib\\site-packages (from click>=8.1.3->Flask) (0.4.6)\n",
      "Requirement already satisfied: MarkupSafe>=2.0 in c:\\users\\rajir\\appdata\\local\\programs\\python\\python311\\lib\\site-packages (from Jinja2>=3.1.2->Flask) (2.1.2)\n"
     ]
    }
   ],
   "source": [
    "pip install Flask\n"
   ]
  }
 ],
 "metadata": {
  "kernelspec": {
   "display_name": "Python 3",
   "language": "python",
   "name": "python3"
  },
  "language_info": {
   "codemirror_mode": {
    "name": "ipython",
    "version": 3
   },
   "file_extension": ".py",
   "mimetype": "text/x-python",
   "name": "python",
   "nbconvert_exporter": "python",
   "pygments_lexer": "ipython3",
   "version": "3.11.4"
  },
  "orig_nbformat": 4
 },
 "nbformat": 4,
 "nbformat_minor": 2
}
