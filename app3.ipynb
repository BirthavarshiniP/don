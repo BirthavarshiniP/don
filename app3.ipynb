{
 "cells": [
  {
   "cell_type": "code",
   "execution_count": 1,
   "metadata": {},
   "outputs": [
    {
     "name": "stdout",
     "output_type": "stream",
     "text": [
      "WARNING:tensorflow:From c:\\Users\\rajir\\AppData\\Local\\Programs\\Python\\Python311\\Lib\\site-packages\\keras\\src\\losses.py:2976: The name tf.losses.sparse_softmax_cross_entropy is deprecated. Please use tf.compat.v1.losses.sparse_softmax_cross_entropy instead.\n",
      "\n",
      " * Serving Flask app '__main__'\n",
      " * Debug mode: on\n"
     ]
    },
    {
     "name": "stderr",
     "output_type": "stream",
     "text": [
      "WARNING: This is a development server. Do not use it in a production deployment. Use a production WSGI server instead.\n",
      " * Running on http://127.0.0.1:8000\n",
      "Press CTRL+C to quit\n",
      " * Restarting with watchdog (windowsapi)\n"
     ]
    },
    {
     "ename": "SystemExit",
     "evalue": "1",
     "output_type": "error",
     "traceback": [
      "An exception has occurred, use %tb to see the full traceback.\n",
      "\u001b[1;31mSystemExit\u001b[0m\u001b[1;31m:\u001b[0m 1\n"
     ]
    },
    {
     "name": "stderr",
     "output_type": "stream",
     "text": [
      "c:\\Users\\rajir\\AppData\\Local\\Programs\\Python\\Python311\\Lib\\site-packages\\IPython\\core\\interactiveshell.py:3468: UserWarning: To exit: use 'exit', 'quit', or Ctrl-D.\n",
      "  warn(\"To exit: use 'exit', 'quit', or Ctrl-D.\", stacklevel=1)\n"
     ]
    }
   ],
   "source": [
    "from flask import Flask, request, jsonify\n",
    "from txtai.pipeline import Summary\n",
    "from PyPDF2 import PdfReader\n",
    "import io\n",
    "\n",
    "app = Flask(__name__)\n",
    "\n",
    "@ app.route('/summarize', methods=['POST'])\n",
    "def summarize():\n",
    "    try:\n",
    "        if 'file' in request.files:\n",
    "            input_file = request.files['file']\n",
    "            with io.BytesIO(input_file.read()) as f:\n",
    "                extracted_text = extract_text_from_pdf(f)\n",
    "            summary_result = summary_text(extracted_text)\n",
    "            return jsonify({\"extracted_text\": extracted_text, \"summary_result\": summary_result}), 200\n",
    "        elif 'text' in request.form:\n",
    "            input_text = request.form['text']\n",
    "            summary_result = summary_text(input_text)\n",
    "            return jsonify({\"input_text\": input_text, \"summary_result\": summary_result}), 200\n",
    "        else:\n",
    "            return jsonify({\"error\": \"Invalid request\"}), 400\n",
    "    except Exception as e:\n",
    "        print(\"An error occurred:\", str(e))\n",
    "        return jsonify({\"error\": str(e)}), 500\n",
    "\n",
    "def summary_text(text):\n",
    "    summary = Summary()\n",
    "    result = summary(text)\n",
    "    return result\n",
    "\n",
    "def extract_text_from_pdf(file_data):\n",
    "    with io.BytesIO(file_data) as f:\n",
    "        reader = PdfReader(f)\n",
    "        page = reader.pages[0]\n",
    "        text = page.extract_text()\n",
    "    return text \n",
    "\n",
    "if __name__ == '__main__':\n",
    "    app.run(debug=True, port=8000)\n"
   ]
  },
  {
   "cell_type": "code",
   "execution_count": 1,
   "metadata": {},
   "outputs": [
    {
     "name": "stdout",
     "output_type": "stream",
     "text": [
      "Collecting streamlit_lottie\n",
      "  Downloading streamlit_lottie-0.0.5-py3-none-any.whl.metadata (3.3 kB)\n",
      "Requirement already satisfied: streamlit>=0.63 in c:\\python311\\lib\\site-packages (from streamlit_lottie) (1.29.0)\n",
      "Requirement already satisfied: altair<6,>=4.0 in c:\\python311\\lib\\site-packages (from streamlit>=0.63->streamlit_lottie) (5.2.0)\n",
      "Requirement already satisfied: blinker<2,>=1.0.0 in c:\\python311\\lib\\site-packages (from streamlit>=0.63->streamlit_lottie) (1.7.0)\n",
      "Requirement already satisfied: cachetools<6,>=4.0 in c:\\python311\\lib\\site-packages (from streamlit>=0.63->streamlit_lottie) (5.3.2)\n",
      "Requirement already satisfied: click<9,>=7.0 in c:\\python311\\lib\\site-packages (from streamlit>=0.63->streamlit_lottie) (8.1.7)\n",
      "Requirement already satisfied: importlib-metadata<7,>=1.4 in c:\\python311\\lib\\site-packages (from streamlit>=0.63->streamlit_lottie) (6.11.0)\n",
      "Requirement already satisfied: numpy<2,>=1.19.3 in c:\\python311\\lib\\site-packages (from streamlit>=0.63->streamlit_lottie) (1.26.3)\n",
      "Requirement already satisfied: packaging<24,>=16.8 in c:\\python311\\lib\\site-packages (from streamlit>=0.63->streamlit_lottie) (23.2)\n",
      "Requirement already satisfied: pandas<3,>=1.3.0 in c:\\python311\\lib\\site-packages (from streamlit>=0.63->streamlit_lottie) (2.1.4)\n",
      "Requirement already satisfied: pillow<11,>=7.1.0 in c:\\python311\\lib\\site-packages (from streamlit>=0.63->streamlit_lottie) (10.2.0)\n",
      "Requirement already satisfied: protobuf<5,>=3.20 in c:\\python311\\lib\\site-packages (from streamlit>=0.63->streamlit_lottie) (4.25.1)\n",
      "Requirement already satisfied: pyarrow>=6.0 in c:\\python311\\lib\\site-packages (from streamlit>=0.63->streamlit_lottie) (14.0.2)\n",
      "Requirement already satisfied: python-dateutil<3,>=2.7.3 in c:\\python311\\lib\\site-packages (from streamlit>=0.63->streamlit_lottie) (2.8.2)\n",
      "Requirement already satisfied: requests<3,>=2.27 in c:\\python311\\lib\\site-packages (from streamlit>=0.63->streamlit_lottie) (2.31.0)\n",
      "Requirement already satisfied: rich<14,>=10.14.0 in c:\\python311\\lib\\site-packages (from streamlit>=0.63->streamlit_lottie) (13.7.0)\n",
      "Requirement already satisfied: tenacity<9,>=8.1.0 in c:\\python311\\lib\\site-packages (from streamlit>=0.63->streamlit_lottie) (8.2.3)\n",
      "Requirement already satisfied: toml<2,>=0.10.1 in c:\\python311\\lib\\site-packages (from streamlit>=0.63->streamlit_lottie) (0.10.2)\n",
      "Requirement already satisfied: typing-extensions<5,>=4.3.0 in c:\\python311\\lib\\site-packages (from streamlit>=0.63->streamlit_lottie) (4.9.0)\n",
      "Requirement already satisfied: tzlocal<6,>=1.1 in c:\\python311\\lib\\site-packages (from streamlit>=0.63->streamlit_lottie) (5.2)\n",
      "Requirement already satisfied: validators<1,>=0.2 in c:\\python311\\lib\\site-packages (from streamlit>=0.63->streamlit_lottie) (0.22.0)\n",
      "Requirement already satisfied: gitpython!=3.1.19,<4,>=3.0.7 in c:\\python311\\lib\\site-packages (from streamlit>=0.63->streamlit_lottie) (3.1.40)\n",
      "Requirement already satisfied: pydeck<1,>=0.8.0b4 in c:\\python311\\lib\\site-packages (from streamlit>=0.63->streamlit_lottie) (0.8.1b0)\n",
      "Requirement already satisfied: tornado<7,>=6.0.3 in c:\\python311\\lib\\site-packages (from streamlit>=0.63->streamlit_lottie) (6.4)\n",
      "Requirement already satisfied: watchdog>=2.1.5 in c:\\python311\\lib\\site-packages (from streamlit>=0.63->streamlit_lottie) (3.0.0)\n",
      "Requirement already satisfied: jinja2 in c:\\python311\\lib\\site-packages (from altair<6,>=4.0->streamlit>=0.63->streamlit_lottie) (3.1.2)\n",
      "Requirement already satisfied: jsonschema>=3.0 in c:\\python311\\lib\\site-packages (from altair<6,>=4.0->streamlit>=0.63->streamlit_lottie) (4.20.0)\n",
      "Requirement already satisfied: toolz in c:\\python311\\lib\\site-packages (from altair<6,>=4.0->streamlit>=0.63->streamlit_lottie) (0.12.0)\n",
      "Requirement already satisfied: colorama in c:\\python311\\lib\\site-packages (from click<9,>=7.0->streamlit>=0.63->streamlit_lottie) (0.4.6)\n",
      "Requirement already satisfied: gitdb<5,>=4.0.1 in c:\\python311\\lib\\site-packages (from gitpython!=3.1.19,<4,>=3.0.7->streamlit>=0.63->streamlit_lottie) (4.0.11)\n",
      "Requirement already satisfied: zipp>=0.5 in c:\\python311\\lib\\site-packages (from importlib-metadata<7,>=1.4->streamlit>=0.63->streamlit_lottie) (3.17.0)\n",
      "Requirement already satisfied: pytz>=2020.1 in c:\\python311\\lib\\site-packages (from pandas<3,>=1.3.0->streamlit>=0.63->streamlit_lottie) (2023.3.post1)\n",
      "Requirement already satisfied: tzdata>=2022.1 in c:\\python311\\lib\\site-packages (from pandas<3,>=1.3.0->streamlit>=0.63->streamlit_lottie) (2023.4)\n",
      "Requirement already satisfied: six>=1.5 in c:\\python311\\lib\\site-packages (from python-dateutil<3,>=2.7.3->streamlit>=0.63->streamlit_lottie) (1.16.0)\n",
      "Requirement already satisfied: charset-normalizer<4,>=2 in c:\\python311\\lib\\site-packages (from requests<3,>=2.27->streamlit>=0.63->streamlit_lottie) (3.3.2)\n",
      "Requirement already satisfied: idna<4,>=2.5 in c:\\python311\\lib\\site-packages (from requests<3,>=2.27->streamlit>=0.63->streamlit_lottie) (3.6)\n",
      "Requirement already satisfied: urllib3<3,>=1.21.1 in c:\\python311\\lib\\site-packages (from requests<3,>=2.27->streamlit>=0.63->streamlit_lottie) (2.1.0)\n",
      "Requirement already satisfied: certifi>=2017.4.17 in c:\\python311\\lib\\site-packages (from requests<3,>=2.27->streamlit>=0.63->streamlit_lottie) (2023.11.17)\n",
      "Requirement already satisfied: markdown-it-py>=2.2.0 in c:\\python311\\lib\\site-packages (from rich<14,>=10.14.0->streamlit>=0.63->streamlit_lottie) (3.0.0)\n",
      "Requirement already satisfied: pygments<3.0.0,>=2.13.0 in c:\\python311\\lib\\site-packages (from rich<14,>=10.14.0->streamlit>=0.63->streamlit_lottie) (2.17.2)\n",
      "Requirement already satisfied: smmap<6,>=3.0.1 in c:\\python311\\lib\\site-packages (from gitdb<5,>=4.0.1->gitpython!=3.1.19,<4,>=3.0.7->streamlit>=0.63->streamlit_lottie) (5.0.1)\n",
      "Requirement already satisfied: MarkupSafe>=2.0 in c:\\python311\\lib\\site-packages (from jinja2->altair<6,>=4.0->streamlit>=0.63->streamlit_lottie) (2.1.3)\n",
      "Requirement already satisfied: attrs>=22.2.0 in c:\\python311\\lib\\site-packages (from jsonschema>=3.0->altair<6,>=4.0->streamlit>=0.63->streamlit_lottie) (23.2.0)\n",
      "Requirement already satisfied: jsonschema-specifications>=2023.03.6 in c:\\python311\\lib\\site-packages (from jsonschema>=3.0->altair<6,>=4.0->streamlit>=0.63->streamlit_lottie) (2023.12.1)\n",
      "Requirement already satisfied: referencing>=0.28.4 in c:\\python311\\lib\\site-packages (from jsonschema>=3.0->altair<6,>=4.0->streamlit>=0.63->streamlit_lottie) (0.32.1)\n",
      "Requirement already satisfied: rpds-py>=0.7.1 in c:\\python311\\lib\\site-packages (from jsonschema>=3.0->altair<6,>=4.0->streamlit>=0.63->streamlit_lottie) (0.16.2)\n",
      "Requirement already satisfied: mdurl~=0.1 in c:\\python311\\lib\\site-packages (from markdown-it-py>=2.2.0->rich<14,>=10.14.0->streamlit>=0.63->streamlit_lottie) (0.1.2)\n",
      "Downloading streamlit_lottie-0.0.5-py3-none-any.whl (802 kB)\n",
      "   ---------------------------------------- 0.0/802.4 kB ? eta -:--:--\n",
      "   - -------------------------------------- 30.7/802.4 kB 1.3 MB/s eta 0:00:01\n",
      "   ---- ----------------------------------- 92.2/802.4 kB 1.1 MB/s eta 0:00:01\n",
      "   ------- -------------------------------- 143.4/802.4 kB 1.2 MB/s eta 0:00:01\n",
      "   ------------ --------------------------- 245.8/802.4 kB 1.4 MB/s eta 0:00:01\n",
      "   ------------- -------------------------- 276.5/802.4 kB 1.4 MB/s eta 0:00:01\n",
      "   ---------------- ----------------------- 337.9/802.4 kB 1.2 MB/s eta 0:00:01\n",
      "   ------------------ --------------------- 368.6/802.4 kB 1.1 MB/s eta 0:00:01\n",
      "   --------------------- ------------------ 440.3/802.4 kB 1.2 MB/s eta 0:00:01\n",
      "   ------------------------ --------------- 491.5/802.4 kB 1.2 MB/s eta 0:00:01\n",
      "   ------------------------ --------------- 491.5/802.4 kB 1.2 MB/s eta 0:00:01\n",
      "   ---------------------------- ----------- 573.4/802.4 kB 1.2 MB/s eta 0:00:01\n",
      "   -------------------------------- ------- 645.1/802.4 kB 1.2 MB/s eta 0:00:01\n",
      "   ---------------------------------- ----- 696.3/802.4 kB 1.2 MB/s eta 0:00:01\n",
      "   ------------------------------------ --- 727.0/802.4 kB 1.1 MB/s eta 0:00:01\n",
      "   ------------------------------------- -- 757.8/802.4 kB 1.1 MB/s eta 0:00:01\n",
      "   ---------------------------------------- 802.4/802.4 kB 1.1 MB/s eta 0:00:00\n",
      "Installing collected packages: streamlit_lottie\n",
      "Successfully installed streamlit_lottie-0.0.5\n",
      "Note: you may need to restart the kernel to use updated packages.\n"
     ]
    }
   ],
   "source": [
    "pip install streamlit_lottie"
   ]
  }
 ],
 "metadata": {
  "kernelspec": {
   "display_name": "Python 3",
   "language": "python",
   "name": "python3"
  },
  "language_info": {
   "codemirror_mode": {
    "name": "ipython",
    "version": 3
   },
   "file_extension": ".py",
   "mimetype": "text/x-python",
   "name": "python",
   "nbconvert_exporter": "python",
   "pygments_lexer": "ipython3",
   "version": "3.11.0"
  },
  "orig_nbformat": 4
 },
 "nbformat": 4,
 "nbformat_minor": 2
}
